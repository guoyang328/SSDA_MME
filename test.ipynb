{
 "metadata": {
  "language_info": {
   "codemirror_mode": {
    "name": "ipython",
    "version": 3
   },
   "file_extension": ".py",
   "mimetype": "text/x-python",
   "name": "python",
   "nbconvert_exporter": "python",
   "pygments_lexer": "ipython3",
   "version": "3.6.9-final"
  },
  "orig_nbformat": 2,
  "kernelspec": {
   "name": "python36964bit88146ce02c9048bdb65dd46e4b50dd20",
   "display_name": "Python 3.6.9 64-bit"
  }
 },
 "nbformat": 4,
 "nbformat_minor": 2,
 "cells": [
  {
   "cell_type": "code",
   "execution_count": 2,
   "metadata": {},
   "outputs": [],
   "source": [
    "from __future__ import print_function\n",
    "import argparse\n",
    "import os\n",
    "import numpy as np\n",
    "import torch\n",
    "import torch.nn as nn\n",
    "import torch.optim as optim\n",
    "from torch.autograd import Variable\n",
    "from model.resnet import resnet34\n",
    "from model.basenet import AlexNetBase, VGGBase, Predictor, Predictor_deep\n",
    "from utils.utils import weights_init\n",
    "from utils.lr_schedule import inv_lr_scheduler\n",
    "from utils.return_dataset import return_dataset\n",
    "from utils.loss import entropy, adentropy"
   ]
  },
  {
   "cell_type": "code",
   "execution_count": 5,
   "metadata": {
    "tags": []
   },
   "outputs": [
    {
     "output_type": "execute_result",
     "data": {
      "text/plain": "_StoreFalseAction(option_strings=['--early'], dest='early', nargs=0, const=False, default=True, type=None, choices=None, help='early stopping on validation or not', metavar=None)"
     },
     "metadata": {},
     "execution_count": 5
    }
   ],
   "source": [
    "# Training settings\n",
    "parser = argparse.ArgumentParser(description='SSDA Classification')\n",
    "parser.add_argument('--steps', type=int, default=50000, metavar='N',\n",
    "                    help='maximum number of iterations '\n",
    "                         'to train (default: 50000)')\n",
    "parser.add_argument('--method', type=str, default='MME',\n",
    "                    choices=['S+T', 'ENT', 'MME'],\n",
    "                    help='MME is proposed method, ENT is entropy minimization,'\n",
    "                         ' S+T is training only on labeled examples')\n",
    "parser.add_argument('--lr', type=float, default=0.01, metavar='LR',\n",
    "                    help='learning rate (default: 0.001)')\n",
    "parser.add_argument('--multi', type=float, default=0.1, metavar='MLT',\n",
    "                    help='learning rate multiplication')\n",
    "parser.add_argument('--T', type=float, default=0.05, metavar='T',\n",
    "                    help='temperature (default: 0.05)')\n",
    "parser.add_argument('--lamda', type=float, default=0.1, metavar='LAM',\n",
    "                    help='value of lamda')\n",
    "parser.add_argument('--save_check', action='store_true', default=False,\n",
    "                    help='save checkpoint or not')\n",
    "parser.add_argument('--checkpath', type=str, default='./save_model_ssda',\n",
    "                    help='dir to save checkpoint')\n",
    "parser.add_argument('--seed', type=int, default=1, metavar='S',\n",
    "                    help='random seed (default: 1)')\n",
    "parser.add_argument('--log-interval', type=int, default=100, metavar='N',\n",
    "                    help='how many batches to wait before logging '\n",
    "                         'training status')\n",
    "parser.add_argument('--save_interval', type=int, default=500, metavar='N',\n",
    "                    help='how many batches to wait before saving a model')\n",
    "parser.add_argument('--net', type=str, default='alexnet',\n",
    "                    help='which network to use')\n",
    "parser.add_argument('--source', type=str, default='real',\n",
    "                    help='source domain')\n",
    "parser.add_argument('--target', type=str, default='sketch',\n",
    "                    help='target domain')\n",
    "parser.add_argument('--dataset', type=str, default='multi',\n",
    "                    choices=['multi', 'office', 'office_home'],\n",
    "                    help='the name of dataset')\n",
    "parser.add_argument('--num', type=int, default=3,\n",
    "                    help='number of labeled examples in the target')\n",
    "parser.add_argument('--patience', type=int, default=5, metavar='S',\n",
    "                    help='early stopping to wait for improvment '\n",
    "                         'before terminating. (default: 5 (5000 iterations))')\n",
    "parser.add_argument('--early', action='store_false', default=True,\n",
    "                    help='early stopping on validation or not')\n",
    "\n",
    "\n"
   ]
  },
  {
   "cell_type": "code",
   "execution_count": 12,
   "metadata": {},
   "outputs": [],
   "source": [
    "args = parser.parse_args([])\n"
   ]
  },
  {
   "cell_type": "code",
   "execution_count": 13,
   "metadata": {},
   "outputs": [
    {
     "output_type": "execute_result",
     "data": {
      "text/plain": "{'steps': 50000,\n 'method': 'MME',\n 'lr': 0.01,\n 'multi': 0.1,\n 'T': 0.05,\n 'lamda': 0.1,\n 'save_check': False,\n 'checkpath': './save_model_ssda',\n 'seed': 1,\n 'log_interval': 100,\n 'save_interval': 500,\n 'net': 'alexnet',\n 'source': 'real',\n 'target': 'sketch',\n 'dataset': 'multi',\n 'num': 3,\n 'patience': 5,\n 'early': True}"
     },
     "metadata": {},
     "execution_count": 13
    }
   ],
   "source": [
    "vars(args)"
   ]
  },
  {
   "cell_type": "code",
   "execution_count": 11,
   "metadata": {
    "tags": []
   },
   "outputs": [
    {
     "output_type": "stream",
     "name": "stdout",
     "text": "Dataset multi Source real Target sketch Labeled num perclass 3 Network alexnet\n"
    },
    {
     "output_type": "error",
     "ename": "FileNotFoundError",
     "evalue": "[Errno 2] No such file or directory: './data/txt/multi/labeled_source_images_real.txt'",
     "traceback": [
      "\u001b[0;31m---------------------------------------------------------------------------\u001b[0m",
      "\u001b[0;31mFileNotFoundError\u001b[0m                         Traceback (most recent call last)",
      "\u001b[0;32m<ipython-input-11-40b49bc965da>\u001b[0m in \u001b[0;36m<module>\u001b[0;34m\u001b[0m\n\u001b[1;32m      3\u001b[0m       (args.dataset, args.source, args.target, args.num, args.net))\n\u001b[1;32m      4\u001b[0m \u001b[0msource_loader\u001b[0m\u001b[0;34m,\u001b[0m \u001b[0mtarget_loader\u001b[0m\u001b[0;34m,\u001b[0m \u001b[0mtarget_loader_unl\u001b[0m\u001b[0;34m,\u001b[0m \u001b[0mtarget_loader_val\u001b[0m\u001b[0;34m,\u001b[0m\u001b[0;31m \u001b[0m\u001b[0;31m\\\u001b[0m\u001b[0;34m\u001b[0m\u001b[0;34m\u001b[0m\u001b[0m\n\u001b[0;32m----> 5\u001b[0;31m     \u001b[0mtarget_loader_test\u001b[0m\u001b[0;34m,\u001b[0m \u001b[0mclass_list\u001b[0m \u001b[0;34m=\u001b[0m \u001b[0mreturn_dataset\u001b[0m\u001b[0;34m(\u001b[0m\u001b[0margs\u001b[0m\u001b[0;34m)\u001b[0m\u001b[0;34m\u001b[0m\u001b[0;34m\u001b[0m\u001b[0m\n\u001b[0m",
      "\u001b[0;32m/nobackup/yguo/SSDA_MME/utils/return_dataset.py\u001b[0m in \u001b[0;36mreturn_dataset\u001b[0;34m(args)\u001b[0m\n\u001b[1;32m     64\u001b[0m     }\n\u001b[1;32m     65\u001b[0m     source_dataset = Imagelists_VISDA(image_set_file_s, root=root,\n\u001b[0;32m---> 66\u001b[0;31m                                       transform=data_transforms['train'])\n\u001b[0m\u001b[1;32m     67\u001b[0m     target_dataset = Imagelists_VISDA(image_set_file_t, root=root,\n\u001b[1;32m     68\u001b[0m                                       transform=data_transforms['val'])\n",
      "\u001b[0;32m/nobackup/yguo/SSDA_MME/loaders/data_list.py\u001b[0m in \u001b[0;36m__init__\u001b[0;34m(self, image_list, root, transform, target_transform, test)\u001b[0m\n\u001b[1;32m     40\u001b[0m     def __init__(self, image_list, root=\"./data/multi/\",\n\u001b[1;32m     41\u001b[0m                  transform=None, target_transform=None, test=False):\n\u001b[0;32m---> 42\u001b[0;31m         \u001b[0mimgs\u001b[0m\u001b[0;34m,\u001b[0m \u001b[0mlabels\u001b[0m \u001b[0;34m=\u001b[0m \u001b[0mmake_dataset_fromlist\u001b[0m\u001b[0;34m(\u001b[0m\u001b[0mimage_list\u001b[0m\u001b[0;34m)\u001b[0m\u001b[0;34m\u001b[0m\u001b[0;34m\u001b[0m\u001b[0m\n\u001b[0m\u001b[1;32m     43\u001b[0m         \u001b[0mself\u001b[0m\u001b[0;34m.\u001b[0m\u001b[0mimgs\u001b[0m \u001b[0;34m=\u001b[0m \u001b[0mimgs\u001b[0m\u001b[0;34m\u001b[0m\u001b[0;34m\u001b[0m\u001b[0m\n\u001b[1;32m     44\u001b[0m         \u001b[0mself\u001b[0m\u001b[0;34m.\u001b[0m\u001b[0mlabels\u001b[0m \u001b[0;34m=\u001b[0m \u001b[0mlabels\u001b[0m\u001b[0;34m\u001b[0m\u001b[0;34m\u001b[0m\u001b[0m\n",
      "\u001b[0;32m/nobackup/yguo/SSDA_MME/loaders/data_list.py\u001b[0m in \u001b[0;36mmake_dataset_fromlist\u001b[0;34m(image_list)\u001b[0m\n\u001b[1;32m     12\u001b[0m \u001b[0;34m\u001b[0m\u001b[0m\n\u001b[1;32m     13\u001b[0m \u001b[0;32mdef\u001b[0m \u001b[0mmake_dataset_fromlist\u001b[0m\u001b[0;34m(\u001b[0m\u001b[0mimage_list\u001b[0m\u001b[0;34m)\u001b[0m\u001b[0;34m:\u001b[0m\u001b[0;34m\u001b[0m\u001b[0;34m\u001b[0m\u001b[0m\n\u001b[0;32m---> 14\u001b[0;31m     \u001b[0;32mwith\u001b[0m \u001b[0mopen\u001b[0m\u001b[0;34m(\u001b[0m\u001b[0mimage_list\u001b[0m\u001b[0;34m)\u001b[0m \u001b[0;32mas\u001b[0m \u001b[0mf\u001b[0m\u001b[0;34m:\u001b[0m\u001b[0;34m\u001b[0m\u001b[0;34m\u001b[0m\u001b[0m\n\u001b[0m\u001b[1;32m     15\u001b[0m         \u001b[0mimage_index\u001b[0m \u001b[0;34m=\u001b[0m \u001b[0;34m[\u001b[0m\u001b[0mx\u001b[0m\u001b[0;34m.\u001b[0m\u001b[0msplit\u001b[0m\u001b[0;34m(\u001b[0m\u001b[0;34m' '\u001b[0m\u001b[0;34m)\u001b[0m\u001b[0;34m[\u001b[0m\u001b[0;36m0\u001b[0m\u001b[0;34m]\u001b[0m \u001b[0;32mfor\u001b[0m \u001b[0mx\u001b[0m \u001b[0;32min\u001b[0m \u001b[0mf\u001b[0m\u001b[0;34m.\u001b[0m\u001b[0mreadlines\u001b[0m\u001b[0;34m(\u001b[0m\u001b[0;34m)\u001b[0m\u001b[0;34m]\u001b[0m\u001b[0;34m\u001b[0m\u001b[0;34m\u001b[0m\u001b[0m\n\u001b[1;32m     16\u001b[0m     \u001b[0;32mwith\u001b[0m \u001b[0mopen\u001b[0m\u001b[0;34m(\u001b[0m\u001b[0mimage_list\u001b[0m\u001b[0;34m)\u001b[0m \u001b[0;32mas\u001b[0m \u001b[0mf\u001b[0m\u001b[0;34m:\u001b[0m\u001b[0;34m\u001b[0m\u001b[0;34m\u001b[0m\u001b[0m\n",
      "\u001b[0;31mFileNotFoundError\u001b[0m: [Errno 2] No such file or directory: './data/txt/multi/labeled_source_images_real.txt'"
     ]
    }
   ],
   "source": [
    "args = parser.parse_args([])\n",
    "print('Dataset %s Source %s Target %s Labeled num perclass %s Network %s' %\n",
    "      (args.dataset, args.source, args.target, args.num, args.net))\n",
    "source_loader, target_loader, target_loader_unl, target_loader_val, \\\n",
    "    target_loader_test, class_list = return_dataset(args)"
   ]
  },
  {
   "cell_type": "code",
   "execution_count": null,
   "metadata": {},
   "outputs": [],
   "source": []
  },
  {
   "cell_type": "code",
   "execution_count": null,
   "metadata": {},
   "outputs": [],
   "source": []
  }
 ]
}