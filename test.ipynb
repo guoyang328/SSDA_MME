{
 "metadata": {
  "language_info": {
   "codemirror_mode": {
    "name": "ipython",
    "version": 3
   },
   "file_extension": ".py",
   "mimetype": "text/x-python",
   "name": "python",
   "nbconvert_exporter": "python",
   "pygments_lexer": "ipython3",
   "version": "3.6.9-final"
  },
  "orig_nbformat": 2,
  "kernelspec": {
   "name": "python36964bit88146ce02c9048bdb65dd46e4b50dd20",
   "display_name": "Python 3.6.9 64-bit"
  }
 },
 "nbformat": 4,
 "nbformat_minor": 2,
 "cells": [
  {
   "cell_type": "code",
   "execution_count": 6,
   "metadata": {},
   "outputs": [],
   "source": [
    "from __future__ import print_function\n",
    "import argparse\n",
    "import os\n",
    "import numpy as np\n",
    "import torch\n",
    "import torch.nn as nn\n",
    "import torch.optim as optim\n",
    "from torch.autograd import Variable\n",
    "from model.resnet import resnet34\n",
    "from model.basenet import AlexNetBase, VGGBase, Predictor, Predictor_deep\n",
    "from utils.utils import weights_init\n",
    "from utils.lr_schedule import inv_lr_scheduler\n",
    "from utils.return_dataset import return_dataset\n",
    "from utils.loss import entropy, adentropy"
   ]
  },
  {
   "cell_type": "code",
   "execution_count": 7,
   "metadata": {
    "tags": []
   },
   "outputs": [
    {
     "output_type": "execute_result",
     "data": {
      "text/plain": "_StoreFalseAction(option_strings=['--early'], dest='early', nargs=0, const=False, default=True, type=None, choices=None, help='early stopping on validation or not', metavar=None)"
     },
     "metadata": {},
     "execution_count": 7
    }
   ],
   "source": [
    "# Training settings\n",
    "parser = argparse.ArgumentParser(description='SSDA Classification')\n",
    "parser.add_argument('--steps', type=int, default=50000, metavar='N',\n",
    "                    help='maximum number of iterations '\n",
    "                         'to train (default: 50000)')\n",
    "parser.add_argument('--method', type=str, default='MME',\n",
    "                    choices=['S+T', 'ENT', 'MME'],\n",
    "                    help='MME is proposed method, ENT is entropy minimization,'\n",
    "                         ' S+T is training only on labeled examples')\n",
    "parser.add_argument('--lr', type=float, default=0.01, metavar='LR',\n",
    "                    help='learning rate (default: 0.001)')\n",
    "parser.add_argument('--multi', type=float, default=0.1, metavar='MLT',\n",
    "                    help='learning rate multiplication')\n",
    "parser.add_argument('--T', type=float, default=0.05, metavar='T',\n",
    "                    help='temperature (default: 0.05)')\n",
    "parser.add_argument('--lamda', type=float, default=0.1, metavar='LAM',\n",
    "                    help='value of lamda')\n",
    "parser.add_argument('--save_check', action='store_true', default=False,\n",
    "                    help='save checkpoint or not')\n",
    "parser.add_argument('--checkpath', type=str, default='./save_model_ssda',\n",
    "                    help='dir to save checkpoint')\n",
    "parser.add_argument('--seed', type=int, default=1, metavar='S',\n",
    "                    help='random seed (default: 1)')\n",
    "parser.add_argument('--log-interval', type=int, default=100, metavar='N',\n",
    "                    help='how many batches to wait before logging '\n",
    "                         'training status')\n",
    "parser.add_argument('--save_interval', type=int, default=500, metavar='N',\n",
    "                    help='how many batches to wait before saving a model')\n",
    "parser.add_argument('--net', type=str, default='alexnet',\n",
    "                    help='which network to use')\n",
    "parser.add_argument('--source', type=str, default='real',\n",
    "                    help='source domain')\n",
    "parser.add_argument('--target', type=str, default='sketch',\n",
    "                    help='target domain')\n",
    "parser.add_argument('--dataset', type=str, default='multi',\n",
    "                    choices=['multi', 'office', 'office_home'],\n",
    "                    help='the name of dataset')\n",
    "parser.add_argument('--num', type=int, default=3,\n",
    "                    help='number of labeled examples in the target')\n",
    "parser.add_argument('--patience', type=int, default=5, metavar='S',\n",
    "                    help='early stopping to wait for improvment '\n",
    "                         'before terminating. (default: 5 (5000 iterations))')\n",
    "parser.add_argument('--early', action='store_false', default=True,\n",
    "                    help='early stopping on validation or not')\n",
    "\n",
    "\n"
   ]
  },
  {
   "cell_type": "code",
   "execution_count": 8,
   "metadata": {
    "tags": []
   },
   "outputs": [
    {
     "output_type": "stream",
     "name": "stdout",
     "text": "Dataset multi Source real Target sketch Labeled num perclass 3 Network alexnet\n126 classes in this dataset\n"
    }
   ],
   "source": [
    "args = parser.parse_args([])\n",
    "print('Dataset %s Source %s Target %s Labeled num perclass %s Network %s' %\n",
    "      (args.dataset, args.source, args.target, args.num, args.net))\n",
    "source_loader, target_loader, target_loader_unl, target_loader_val, \\\n",
    "    target_loader_test, class_list = return_dataset(args)"
   ]
  },
  {
   "cell_type": "code",
   "execution_count": 13,
   "metadata": {
    "tags": []
   },
   "outputs": [
    {
     "output_type": "stream",
     "name": "stdout",
     "text": "tensor([], dtype=torch.int64)\ntensor([], dtype=torch.int64)\ntensor([], dtype=torch.int64)\ntensor([0])\ntensor([], dtype=torch.int64)\ntensor([0])\ntensor([], dtype=torch.int64)\ntensor([], dtype=torch.int64)\ntensor([], dtype=torch.int64)\ntensor([], dtype=torch.int64)\ntensor([0])\n"
    }
   ],
   "source": [
    "for data, label in target_loader: \n",
    "    label2 = label[label==0]\n",
    "    print(label2)"
   ]
  },
  {
   "cell_type": "code",
   "execution_count": null,
   "metadata": {},
   "outputs": [],
   "source": []
  }
 ]
}